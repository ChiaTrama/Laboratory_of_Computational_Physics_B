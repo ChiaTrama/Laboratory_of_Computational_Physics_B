{
 "cells": [
  {
   "cell_type": "code",
   "execution_count": 1,
   "id": "7433bbec",
   "metadata": {},
   "outputs": [
    {
     "name": "stdout",
     "output_type": "stream",
     "text": [
      "Dataset unificato salvato con successo nel file: ./saved_datasets/merged_svr_dataset_10000sim_5e+04np_1e-02dt_4os_1e+02pre.pickle\n",
      "Dimensioni del dataset unificato: torch.Size([10000, 3]) torch.Size([10000, 1000])\n"
     ]
    }
   ],
   "source": [
    "import os\n",
    "import pickle\n",
    "import torch\n",
    "from parsing_functions import extract_specs, specs_match\n",
    "\n",
    "# Set the parameters for filtering\n",
    "target_Npts = 5e+04\n",
    "target_dt = 1e-02\n",
    "target_oversampling = 4\n",
    "target_prerun = 1e+02\n",
    "\n",
    "# Directory containing the .pickle files\n",
    "directory_path = \"./saved_datasets/\"\n",
    "\n",
    "# List of all files in the directory with .pickle extension\n",
    "all_files = [file for file in os.listdir(directory_path) if file.endswith(\".pickle\")]\n",
    "\n",
    "# List only files that are in line with target parameters and not already from a previous merge\n",
    "dataset_files = [file for file in all_files if specs_match(file, target_Npts, target_dt, target_oversampling, target_prerun)]\n",
    "\n",
    "# Lists to store the data from all files\n",
    "all_data_theta = torch.tensor([])\n",
    "all_data_x = torch.tensor([])\n",
    "\n",
    "# Load data from each file and combine them\n",
    "for filename in dataset_files:\n",
    "    file_path = os.path.join(directory_path, filename)\n",
    "    with open(file_path, 'rb') as file:\n",
    "        data = pickle.load(file)\n",
    "        data_theta = data['theta']\n",
    "        data_x = data['x']\n",
    "        all_data_theta = torch.cat((all_data_theta, data_theta))\n",
    "        all_data_x = torch.cat((all_data_x, data_x))\n",
    "\n",
    "# Determine the size of each half of data_x\n",
    "half_size = all_data_x.shape[1] // 2\n",
    "\n",
    "# Option to filter out either the first or the second half of data_x\n",
    "filter_option = 'svr'  # Set to 'corr' to keep only the first half, 'svr' to keep only the second half\n",
    "\n",
    "if filter_option == 'corr':\n",
    "    all_data_x = all_data_x[:, :half_size]\n",
    "    prefix = 'merged_corr_'\n",
    "elif filter_option == 'svr':\n",
    "    all_data_x = all_data_x[:, half_size:]\n",
    "    prefix = 'merged_svr_'\n",
    "else:\n",
    "    prefix = 'merged_'\n",
    "\n",
    "\n",
    "\n",
    "# Calculate the total number of simulations\n",
    "total_num_simulations = all_data_theta.shape[0]\n",
    "\n",
    "# Construct the new filename with updated specs\n",
    "output_filename = f\"{prefix}dataset_{total_num_simulations:.0f}sim_{target_Npts:.0e}np_{target_dt:.0e}dt_{target_oversampling}os_{target_prerun:.0e}pre.pickle\"\n",
    "\n",
    "save_path = os.path.join(directory_path, output_filename)\n",
    "\n",
    "# Save the combined data into the new file\n",
    "combined_data = {'theta': all_data_theta, 'x': all_data_x}\n",
    "with open(save_path, 'wb') as file:\n",
    "    pickle.dump(combined_data, file)\n",
    "\n",
    "print(\"Dataset unificato salvato con successo nel file:\", save_path)\n",
    "print(\"Dimensioni del dataset unificato:\", all_data_theta.shape, all_data_x.shape)\n"
   ]
  },
  {
   "cell_type": "code",
   "execution_count": null,
   "id": "a135072a",
   "metadata": {},
   "outputs": [],
   "source": []
  }
 ],
 "metadata": {
  "kernelspec": {
   "display_name": "Python 3 (ipykernel)",
   "language": "python",
   "name": "python3"
  },
  "language_info": {
   "codemirror_mode": {
    "name": "ipython",
    "version": 3
   },
   "file_extension": ".py",
   "mimetype": "text/x-python",
   "name": "python",
   "nbconvert_exporter": "python",
   "pygments_lexer": "ipython3",
   "version": "3.10.14"
  }
 },
 "nbformat": 4,
 "nbformat_minor": 5
}
