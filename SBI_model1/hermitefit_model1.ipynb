{
 "cells": [
  {
   "cell_type": "markdown",
   "metadata": {},
   "source": [
    "# Hermite 12 parameters fit for autocorrelation function inference\n",
    "Here we reproduced the inference for model1 using the fit coeffincients of hermite 12-order function fit on the autocorrelation function of model1.\\\n",
    "We tried with 100k simulations to evaluate the potential of Hermite's approximation but we did not see improvement in the inference quality nor its time used for training; the only improvement is in the dataset size. \\\n",
    "With an i7-8700k we get approximately 0.023s/it, so 100k simulations with 10 threads is more or less 45 minutes of work, maybe improvement would be trying different\n",
    "simulations parameters and different sized datasets to feed the neural network for inference. \\\n",
    "Here we disabled saving of datasets and posterior for ease of reproducing without cluttering the database of results."
   ]
  },
  {
   "cell_type": "code",
   "execution_count": 50,
   "metadata": {},
   "outputs": [],
   "source": [
    "import numba as nb\n",
    "import numpy as np\n",
    "import torch\n",
    "import torch\n",
    "import numpy as np\n",
    "import time\n",
    "from sbi import utils as utils\n",
    "from sbi.inference import SNPE, simulate_for_sbi\n",
    "from sbi.utils.user_input_checks import (\n",
    "    check_sbi_inputs,\n",
    "    process_prior,\n",
    "    process_simulator,\n",
    ")\n",
    "from scipy.optimize import curve_fit\n",
    "\n",
    "\n",
    "#!pip install numba icc_rt rocket-fft\n",
    "\n",
    "@nb.njit(fastmath=True)\n",
    "def cumulative_trapezoid(y, x):\n",
    "    \"\"\"\n",
    "    Compute the cumulative trapezoidal integral of y with respect to x.\n",
    "\n",
    "    Parameters:\n",
    "    y : numpy.ndarray\n",
    "        Array of y values.\n",
    "    x : numpy.ndarray\n",
    "        Array of x values (must have the same shape as y).\n",
    "\n",
    "    Returns:\n",
    "    numpy.ndarray\n",
    "        Array of cumulative trapezoidal integrals.\n",
    "    \"\"\"\n",
    "    integral = np.zeros_like(y)\n",
    "    for i in range(1, len(x)):\n",
    "        integral[i] = integral[i-1] + 0.5 * (y[i] + y[i-1]) * (x[i] - x[i-1])\n",
    "    return integral\n",
    "\n",
    "\n",
    "@nb.njit(fastmath=True)\n",
    "def jit_fft(x,f):\n",
    "    return np.fft.fft(x,f)\n",
    "\n",
    "@nb.njit(fastmath=True)\n",
    "def jit_fft2(x):\n",
    "    return np.fft.fft(x)\n",
    "\n",
    "@nb.njit(fastmath=True)\n",
    "def jit_fftfreq(x,d):\n",
    "    return np.fft.fftfreq(x,d)\n",
    "\n",
    "@nb.njit(fastmath=True)\n",
    "def jit_ifft(x):\n",
    "    return np.fft.ifft(x)\n",
    "    \n",
    "@nb.njit(fastmath=True)\n",
    "def corr(x,y,nmax,dt=False):\n",
    "    assert len(x)==len(y)\n",
    "\n",
    "    n=len(x)\n",
    "    fsize=2**int(np.ceil(np.log2(2*n-1)))\n",
    "\n",
    "    xp=x-np.mean(x)\n",
    "    yp=y-np.mean(y)\n",
    "\n",
    "    cfx=jit_fft(xp,fsize)\n",
    "    cfy=jit_fft(yp,fsize)\n",
    "    \n",
    "    if dt != False:\n",
    "        freq = jit_fftfreq(n, d=dt)\n",
    "        idx = np.where((freq<-1/(2*dt))+(freq>1/(2*dt)))[0]\n",
    "        cfx[idx]=0\n",
    "        cfy[idx]=0\n",
    "        \n",
    "    sf=cfx.conjugate()*cfy\n",
    "    corr = jit_ifft(sf).real / n\n",
    "\n",
    "    return corr[:nmax]\n",
    "@nb.njit(fastmath=True)\n",
    "def D(X, D1, D2, dt):\n",
    "    #g = np.random.normal(0, dt**0.5) #random uguale per posizioni e forze scale=dt**0.5\n",
    "    g = np.random.normal(loc=0.0, scale=dt**0.5, size=(len(X), 2)) \n",
    "    result = np.empty((len(X), 2))\n",
    "    for i in range(len(X)):\n",
    "        result[i, 0] = np.sqrt(2*D1)*g[i,0]\n",
    "        result[i, 1] = np.sqrt(2*D2)*g[i,1]\n",
    "    return result\n",
    "\n",
    "@nb.njit(fastmath=True)\n",
    "def force(X, d, μ, k, τ):\n",
    "    result = np.empty((len(X), 2))\n",
    "    for i in range(len(X)):\n",
    "        x = X[i]\n",
    "        result[i, 0] = μ * (-k * x[0] - d * x[0]**3+ x[1]) #x update\n",
    "        result[i, 1] = -x[1] / τ #fx update\n",
    "    return result\n",
    "\n",
    "@nb.njit(fastmath=True)\n",
    "def dx(state, dt, d, μ, k, τ, D1, D2):\n",
    "    Fs =force(state, d, μ, k, τ)\n",
    "    Ds=D(state, D1, D2, dt)\n",
    "    \"\"\"\n",
    "    Ds=np.empty((Fs.shape[0], 2))\n",
    "    for i in range(Fs.shape[0]):\n",
    "        Ds[i,0]= np.sqrt(2*D1) * random_values[i] \n",
    "        Ds[i,1]=np.sqrt(2*D2) * random_values[i]\n",
    "            \"\"\"\n",
    "\n",
    "    return dt * Fs + Ds\n",
    "\n",
    "@nb.njit(fastmath=True)\n",
    "def simulate(tlist, initial_position, oversampling, prerun, d, μ, k, τ, D1, D2, dt):\n",
    "    state = initial_position.copy()\n",
    "    dto = dt / oversampling\n",
    "    \n",
    "    #random_values =  np.random.normal(0, dt**0.5, len(tlist) * oversampling) \n",
    "\n",
    "    # Pre-equilibration\n",
    "    for j in range(prerun * oversampling):\n",
    "        state += dx(state, dt, d, μ, k, τ, D1, D2)\n",
    "    \n",
    "    # Start recording\n",
    "    data = np.zeros((len(tlist),state.shape[0],state.shape[1])) \n",
    "    forces = np.zeros((len(tlist),state.shape[0],state.shape[1]))\n",
    "    for i in range(len(tlist)):\n",
    "        data[i, :, :] = state\n",
    "        forces[i, :, :] = force(state, d, μ, k, τ)\n",
    "        for j in range(oversampling):\n",
    "            state += dx(state, dto, d, μ, k, τ, D1, D2)\n",
    "        data[i, :, :] = state\n",
    "\n",
    "    #data[-1, :, :] = state\n",
    "    #forces[-1, :, :] = force(state, d, μ, k, τ) \n",
    "    return data, forces\n",
    "\n",
    "@nb.njit(fastmath=True)\n",
    "def entropy(x, f, tlist, dt, D1):\n",
    "    dx = x[1:]-x[:-1]\n",
    "    #print(dx)\n",
    "    #print(x[:-1])\n",
    "    Fs=(f[1:]+f[:-1])/2\n",
    "    #print(Fs)\n",
    "    S=np.sum(Fs*dx)/(D1*(tlist[-1]-1)*dt)\n",
    "    return S\n",
    "\n",
    "@nb.njit(fastmath=True)\n",
    "def hermite_p(n, x):\n",
    "    \"\"\"\n",
    "    Compute the nth Hermite polynomial at x using recurrence relation.\n",
    "    \n",
    "    Parameters:\n",
    "    n (int): The order of the Hermite polynomial.\n",
    "    x (float or numpy.ndarray): The point(s) at which to evaluate the polynomial.\n",
    "    \n",
    "    Returns:\n",
    "    float or numpy.ndarray: The value of the nth Hermite polynomial at x.\n",
    "    \"\"\"\n",
    "    if n == 0:\n",
    "        return np.ones_like(x)\n",
    "    elif n == 1:\n",
    "        return 2.0 * x\n",
    "    else:\n",
    "        H_n_minus_2 = np.ones_like(x)  # H_0(x) = 1\n",
    "        H_n_minus_1 = 2.0 * x          # H_1(x) = 2x\n",
    "        for i in range(2, n + 1):\n",
    "            H_n = 2.0 * x * H_n_minus_1 - 2.0 * (i - 1) * H_n_minus_2\n",
    "            H_n_minus_2 = H_n_minus_1\n",
    "            H_n_minus_1 = H_n\n",
    "        return H_n\n",
    "\n",
    "@nb.njit(fastmath=True)\n",
    "def factorial(n):\n",
    "    \"\"\"\n",
    "    Compute the factorial of a non-negative integer n using a loop.\n",
    "    \n",
    "    Parameters:\n",
    "    n (int): A non-negative integer whose factorial is to be computed.\n",
    "    \n",
    "    Returns:\n",
    "    int: The factorial of the input number n.\n",
    "    \"\"\"\n",
    "    if n < 0:\n",
    "        raise ValueError(\"Factorial is not defined for negative numbers.\")\n",
    "    result = 1\n",
    "    for i in range(2, n + 1):\n",
    "        result *= i\n",
    "    return result\n",
    "\n",
    "@nb.njit(fastmath=True)\n",
    "def phi(n,x):\n",
    "    x_sdv = np.std(x)\n",
    "    z = x / x_sdv\n",
    "    return np.exp(-z**2/2)*hermite_p(n,x)*(2**n*factorial(n)*np.sqrt(np.pi))**(-1/2)\n",
    "\n",
    "@nb.njit(fastmath=True)\n",
    "def power_spectrum(time_series, sampling_rate):\n",
    "    \"\"\"\n",
    "    Compute the power spectrum of a time series.\n",
    "\n",
    "    Parameters:\n",
    "    time_series (numpy array): The input time series data.\n",
    "    sampling_rate (float): The sampling rate of the time series data.\n",
    "\n",
    "    Returns:\n",
    "    freqs (numpy array): The array of frequency bins.\n",
    "    power_spectrum (numpy array): The power spectrum of the time series.\n",
    "    \"\"\"\n",
    "\n",
    "    # Compute the FFT\n",
    "    X = jit_fft2(time_series)\n",
    "    N = len(X)\n",
    "    freqs = jit_fftfreq(N, 1/sampling_rate)\n",
    "\n",
    "    # Compute the power spectrum\n",
    "    power_spectrum = np.abs(X)**2 / N\n",
    "\n",
    "    # Return only the positive frequencies and their power\n",
    "    pos_indices = np.where(freqs >= 0)\n",
    "    freqs = freqs[pos_indices]\n",
    "    power_spectrum = power_spectrum[pos_indices]\n",
    "\n",
    "    return freqs, power_spectrum"
   ]
  },
  {
   "cell_type": "code",
   "execution_count": 51,
   "metadata": {},
   "outputs": [],
   "source": [
    "import numpy as np\n",
    "from scipy.optimize import curve_fit\n",
    "\n",
    "# Define other necessary functions here...\n",
    "#@nb.njit(fastmath=True)\n",
    "def hermite_model(t, *coeffs, dt):\n",
    "    f_bar = np.mean(power_spectrum(t, dt)[1])\n",
    "    sqrt_f_bar = np.sqrt(f_bar)\n",
    "    result = np.zeros_like(t)\n",
    "    \n",
    "    for i, a_i in enumerate(coeffs):\n",
    "        result += a_i * sqrt_f_bar * phi(i, f_bar * t)#, (f_bar*t)/np.std(f_bar*t))\n",
    "    return result\n",
    "\n",
    "# wrapper for curve_fit\n",
    "def hermite_model_for_curve_fit(t, dt, *coeffs):\n",
    "    return hermite_model(t, *coeffs, dt=dt)\n",
    "\n",
    "def simulator_sbi2(pars, dt, oversampling, prerun, Npts, d=0, k=1): \n",
    "    μ = 1\n",
    "    kBT = 1\n",
    "    D1 = kBT * μ\n",
    "    ϵ = np.float64(pars[0])\n",
    "    τ = np.float64(pars[1])\n",
    "    D2 = ϵ**2 / τ\n",
    "    d = np.float64(pars[2])\n",
    "    tau = dt * Npts\n",
    "    tlist = np.linspace(0. + dt / 2., tau, Npts)\n",
    "    initial_position = np.zeros(shape=(1, 2), dtype=np.float64)\n",
    "\n",
    "    data, forces = simulate(tlist, initial_position=initial_position, oversampling=oversampling, \n",
    "                            prerun=prerun, d=d, μ=μ, k=k, τ=τ, D1=D1, D2=D2, dt=dt)\n",
    "    x = data[:, 0, 0]\n",
    "    f_int = (forces[:, 0, 0] / μ + k * x)\n",
    "    \n",
    "    \n",
    "    # Correlation functions\n",
    "    Cxx = corr(x, x, len(tlist), dt=dt)\n",
    "    Cfx = corr(f_int, x, len(tlist), dt=dt)\n",
    "\n",
    "    x_sdv = np.std(x)\n",
    "    phi0 = phi(0, x)\n",
    "    phi2 = phi(2, x)\n",
    "    phi4 = phi(4, x)\n",
    "\n",
    "    stat_1 = x_sdv\n",
    "    stat_2 = np.mean(phi0 / np.sqrt(x_sdv))\n",
    "    stat_3 = np.mean(phi2 / np.sqrt(x_sdv))\n",
    "    stat_4 = np.mean(phi4 / np.sqrt(x_sdv))\n",
    "\n",
    "    initial_guess = np.zeros(12)  # Ensure the guess has the same length as the number of coefficients\n",
    "\n",
    "    # Use the wrapper function for curve_fit\n",
    "    t_corr = 10\n",
    "    idx_corr = np.where(tlist < t_corr)[0]\n",
    "    wrapped_model = hermite_model_for_curve_fit(t=tlist[idx_corr], dt=dt)\n",
    "    fitted_coeff, _ = curve_fit(lambda t, *coeffs: hermite_model_for_curve_fit(t, dt, *coeffs), tlist[idx_corr], Cxx[idx_corr], p0=initial_guess)\n",
    "  \n",
    "    \n",
    "    npcombo = np.concatenate((np.array([stat_1, stat_2, stat_3, stat_4]), fitted_coeff))\n",
    "    \n",
    "    return npcombo\n",
    "\n",
    "# Your simulate and other necessary functions should be defined here..."
   ]
  },
  {
   "cell_type": "code",
   "execution_count": 52,
   "metadata": {},
   "outputs": [],
   "source": [
    "low_tensor = torch.tensor([0,0.01,0])\n",
    "high_tensor = torch.tensor([2,2,1])\n",
    "\n",
    "dt = 1e-2\n",
    "oversampling = 5\n",
    "prerun = 1e3\n",
    "Npts = 5e4\n",
    "\n",
    "\n",
    "def simulator_to_sbi(pars):\n",
    "    return simulator_sbi2(np.array(pars), dt, oversampling, int(prerun),int(Npts))\n",
    "\n",
    "\n",
    "\n",
    "prior_sbi = utils.BoxUniform(low=low_tensor, high=high_tensor)\n",
    "\n",
    "# Check prior, return PyTorch prior.\n",
    "prior, num_parameters, prior_returns_numpy = process_prior(prior_sbi)\n",
    "\n",
    "# Check simulator, returns PyTorch simulator able to simulate batches.\n",
    "simulator = process_simulator(simulator_to_sbi, prior, prior_returns_numpy)\n",
    "\n",
    "# Consistency check after making ready for sbi.\n",
    "check_sbi_inputs(simulator, prior)"
   ]
  },
  {
   "cell_type": "code",
   "execution_count": 61,
   "metadata": {},
   "outputs": [
    {
     "data": {
      "application/vnd.jupyter.widget-view+json": {
       "model_id": "6f38d2926cff4fa7aee89fd0ae36183b",
       "version_major": 2,
       "version_minor": 0
      },
      "text/plain": [
       "Running 100000 simulations in 100 batches.:   0%|          | 0/100 [00:00<?, ?it/s]"
      ]
     },
     "metadata": {},
     "output_type": "display_data"
    },
    {
     "name": "stdout",
     "output_type": "stream",
     "text": [
      "mean time per iteration:  0.0232863449215889\n"
     ]
    }
   ],
   "source": [
    "num_simulations=30000\n",
    "num_workers=10\n",
    "sim_batch_size=int(num_simulations/(num_workers*10))\n",
    "\n",
    "#to use parallel processing you need python<3.11\n",
    "start=time.time()\n",
    "theta, x = simulate_for_sbi(simulator, proposal=prior, num_simulations=num_simulations, \n",
    "                            num_workers=num_workers, simulation_batch_size=sim_batch_size)\n",
    "end=time.time()\n",
    "\n",
    "#bsize = 10, nworkers=10, ~ 0.62s/it\n",
    "#new sim with 100 batches ~0.29s/it, same with 10 batches\n",
    "\n",
    "print('mean time per iteration: ', (end-start)/num_simulations)"
   ]
  },
  {
   "cell_type": "code",
   "execution_count": 62,
   "metadata": {},
   "outputs": [
    {
     "name": "stdout",
     "output_type": "stream",
     "text": [
      "Saved dataset at saved_datasets/hermite/dataset_85629f6afaaf8a587c15d67250a2a477.pickle\n",
      "\n"
     ]
    },
    {
     "data": {
      "text/plain": [
       "'saved_datasets/hermite/dataset_85629f6afaaf8a587c15d67250a2a477.pickle'"
      ]
     },
     "execution_count": 62,
     "metadata": {},
     "output_type": "execute_result"
    }
   ],
   "source": [
    "from parsing_functions import save_pickle_data\n",
    "\n",
    "# saving dataset for future use\n",
    "save_dir = 'saved_datasets/hermite/'\n",
    "data = {\n",
    "    'theta': theta,\n",
    "    'x': x,\n",
    "    'num_simulations': num_simulations,\n",
    "    'Npts': Npts,\n",
    "    'dt': dt,\n",
    "    'oversampling': oversampling,\n",
    "    'prerun': prerun,\n",
    "    'low_tensor': low_tensor,\n",
    "    'high_tensor': high_tensor,\n",
    "    'features': 'hermite'  # Indicates the type of the data\n",
    "}\n",
    "\n",
    "#save_pickle_data(data=data, folder_path=save_dir)"
   ]
  },
  {
   "cell_type": "code",
   "execution_count": 63,
   "metadata": {},
   "outputs": [
    {
     "name": "stdout",
     "output_type": "stream",
     "text": [
      " Neural network successfully converged after 179 epochs.\n",
      " time passed for convergence:  3197.7266974449158\n"
     ]
    }
   ],
   "source": [
    "inference = SNPE(prior=prior)\n",
    "inference = inference.append_simulations(theta, x)\n",
    "start = time.time()\n",
    "density_estimator = inference.train()\n",
    "posterior = inference.build_posterior(density_estimator)\n",
    "end = time.time()\n",
    "print('\\n time passed for convergence: ', end-start)"
   ]
  },
  {
   "cell_type": "code",
   "execution_count": 64,
   "metadata": {},
   "outputs": [
    {
     "name": "stdout",
     "output_type": "stream",
     "text": [
      "Saved dataset at saved_posteriors/posterior_85629f6afaaf8a587c15d67250a2a477.pickle\n",
      "\n"
     ]
    },
    {
     "data": {
      "text/plain": [
       "'saved_posteriors/posterior_85629f6afaaf8a587c15d67250a2a477.pickle'"
      ]
     },
     "execution_count": 64,
     "metadata": {},
     "output_type": "execute_result"
    }
   ],
   "source": [
    "#saving generated posterior from SBI\n",
    "posterior_dir = 'saved_posteriors/'\n",
    "\n",
    "data_posterior = {\n",
    "    'posterior': posterior,\n",
    "    'num_simulations': num_simulations,\n",
    "    'Npts': Npts,\n",
    "    'dt': dt,\n",
    "    'oversampling': oversampling,\n",
    "    'prerun': prerun,\n",
    "    'low_tensor': low_tensor,\n",
    "    'high_tensor': high_tensor,\n",
    "    'features': 'hermite'# Indicates the type of the data\n",
    "}\n",
    "\n",
    "#save_pickle_data(data=data_posterior, folder_path=posterior_dir)"
   ]
  },
  {
   "cell_type": "code",
   "execution_count": 67,
   "metadata": {},
   "outputs": [
    {
     "name": "stdout",
     "output_type": "stream",
     "text": [
      "tensor([[0.5498, 1.8279, 0.9441]])\n"
     ]
    },
    {
     "data": {
      "application/vnd.jupyter.widget-view+json": {
       "model_id": "10e06e6fc24e4de48ded67ad1e4ecd8e",
       "version_major": 2,
       "version_minor": 0
      },
      "text/plain": [
       "Drawing 10000000 posterior samples:   0%|          | 0/10000000 [00:00<?, ?it/s]"
      ]
     },
     "metadata": {},
     "output_type": "display_data"
    }
   ],
   "source": [
    "theta_true = prior.sample((1,))\n",
    "print(theta_true)\n",
    "# generate our observation\n",
    "\n",
    "x_obs = simulator_to_sbi(theta_true[0])\n",
    "samples = posterior.sample((10_000_000,), x=x_obs)"
   ]
  },
  {
   "cell_type": "code",
   "execution_count": 68,
   "metadata": {},
   "outputs": [
    {
     "data": {
      "image/png": "[encoded data removed]",
      "text/plain": [
       "<Figure size 1800x1800 with 9 Axes>"
      ]
     },
     "metadata": {},
     "output_type": "display_data"
    }
   ],
   "source": [
    "from sbi import analysis\n",
    "from sbi import utils as utils\n",
    "\n",
    "fig,ax = analysis.pairplot(samples, points=theta_true, figsize=(18, 18),labels=[r\"$\\epsilon$\", r\"$\\tau$\", r\"$d$\"])\n",
    "\n",
    "#fig.savefig('hermitean1Mpar.png', dpi=600)"
   ]
  },
  {
   "cell_type": "code",
   "execution_count": null,
   "metadata": {},
   "outputs": [],
   "source": []
  }
 ],
 "metadata": {
  "kernelspec": {
   "display_name": "Python 3 (ipykernel)",
   "language": "python",
   "name": "python3"
  },
  "language_info": {
   "codemirror_mode": {
    "name": "ipython",
    "version": 3
   },
   "file_extension": ".py",
   "mimetype": "text/x-python",
   "name": "python",
   "nbconvert_exporter": "python",
   "pygments_lexer": "ipython3",
   "version": "3.12.3"
  },
  "vscode": {
   "interpreter": {
    "hash": "7e1998ff7f8aa20ada591c520b972326324e5ea05489af9e422744c7c09f6dad"
   }
  }
 },
 "nbformat": 4,
 "nbformat_minor": 4
}
