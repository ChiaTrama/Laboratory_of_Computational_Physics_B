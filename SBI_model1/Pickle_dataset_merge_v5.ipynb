{
 "cells": [
  {
   "cell_type": "code",
   "execution_count": 2,
   "id": "a135072a",
   "metadata": {},
   "outputs": [
    {
     "name": "stdout",
     "output_type": "stream",
     "text": [
      "Saved dataset at saved_datasets/merged_corr_dataset_10000sim_5e+04np_1e-02dt_5os_1e+03pre.pickle\n",
      "\n"
     ]
    }
   ],
   "source": [
    "import torch\n",
    "from parsing_functions import merge_datasets\n",
    "\n",
    "# Define target specifications\n",
    "target_Npts = 5e+04\n",
    "target_dt = 1e-02\n",
    "target_oversampling = 5\n",
    "target_prerun = 1e+03\n",
    "target_low_tensor = torch.tensor([0, 0.1, 0])\n",
    "target_high_tensor = torch.tensor([4, 3, 15])\n",
    "\n",
    "# Merge datasets\n",
    "directory_path = \"saved_datasets\"\n",
    "save_path = merge_datasets(\n",
    "    directory_path, \n",
    "    target_Npts, \n",
    "    target_dt, \n",
    "    target_oversampling, \n",
    "    target_prerun, \n",
    "    target_low_tensor, \n",
    "    target_high_tensor, \n",
    "    filter_half= 'corr' #you can choose between 'svr' and 'corr' to save only one, or none to save both\n",
    ")"
   ]
  },
  {
   "cell_type": "code",
   "execution_count": null,
   "id": "b07896d2-17ef-4928-9d27-e3651b6f4c0a",
   "metadata": {},
   "outputs": [],
   "source": []
  }
 ],
 "metadata": {
  "kernelspec": {
   "display_name": "Python 3 (ipykernel)",
   "language": "python",
   "name": "python3"
  },
  "language_info": {
   "codemirror_mode": {
    "name": "ipython",
    "version": 3
   },
   "file_extension": ".py",
   "mimetype": "text/x-python",
   "name": "python",
   "nbconvert_exporter": "python",
   "pygments_lexer": "ipython3",
   "version": "3.12.3"
  }
 },
 "nbformat": 4,
 "nbformat_minor": 5
}
