{
 "cells": [
  {
   "cell_type": "code",
   "execution_count": 4,
   "id": "0aca32fd",
   "metadata": {},
   "outputs": [
    {
     "name": "stdout",
     "output_type": "stream",
     "text": [
      "1/1 [==============================] - 0s 61ms/step\n",
      "[[-478.3833]]\n",
      "[[-0.99814993]]\n",
      "Model: \"sequential\"\n",
      "_________________________________________________________________\n",
      " Layer (type)                Output Shape              Param #   \n",
      "=================================================================\n",
      " dense (Dense)               (None, 256)               1024      \n",
      "                                                                 \n",
      " dense_1 (Dense)             (None, 128)               32896     \n",
      "                                                                 \n",
      " dense_2 (Dense)             (None, 64)                8256      \n",
      "                                                                 \n",
      " dense_3 (Dense)             (None, 32)                2080      \n",
      "                                                                 \n",
      " dense_4 (Dense)             (None, 16)                528       \n",
      "                                                                 \n",
      " dense_5 (Dense)             (None, 1)                 17        \n",
      "                                                                 \n",
      "=================================================================\n",
      "Total params: 44801 (175.00 KB)\n",
      "Trainable params: 44801 (175.00 KB)\n",
      "Non-trainable params: 0 (0.00 Byte)\n",
      "_________________________________________________________________\n"
     ]
    },
    {
     "data": {
      "image/png": "[encoded data removed]",
      "text/plain": [
       "<PIL.Image.Image image mode=RGBA size=203x27>"
      ]
     },
     "execution_count": 4,
     "metadata": {},
     "output_type": "execute_result"
    }
   ],
   "source": [
    "# Esempio di utilizzo del modello per fare previsioni\n",
    "import numpy as np\n",
    "import keras\n",
    "import tensorflow as tf\n",
    "\n",
    "# Carica il modello salvato\n",
    "model = keras.models.load_model(\n",
    "    'saved_model/top10bs16_cono3shape_6layers_256neurons_p06cut.keras')\n",
    "\n",
    "# Dati di input di esempio\n",
    "# dH1, dH2 in Angstrom, theta in rad dH1>dH2\n",
    "# Posizioni standard H2O, con pw.x l'energia viene -460.37824279068 eV\n",
    "# Possibili problemi con la dimensione cella\n",
    "dH1 = 0.96\n",
    "dH2 = 0.96\n",
    "theta = 1.83\n",
    "input_data = np.array([[dH1, dH2, theta]])\n",
    "\n",
    "# Trasforma il dato in un formato adatto per il modello (aggiunge una dimensione)\n",
    "#input_data = np.expand_dims(input_data, axis=0)\n",
    "tf.function(autograph=False, reduce_retracing=True)\n",
    "# Effettua previsioni sulle nuove osservazioni\n",
    "predictions = model.predict(input_data)\n",
    "\n",
    "# -459.90582 eV come risultato da posizioni standard H2O\n",
    "\n",
    "# Stampa le previsioni\n",
    "print(predictions)\n",
    "print(predictions/479.27)\n",
    "# Problemi: \n",
    "# la dimensione di input del modello non coincide con quella pensata;\n",
    "# potrebbero esserci problemi di addestramento anche se non sembra il caso guardando i risultati\n",
    "# l'accuratezza del modello lascia a desiderare: si arriva a un MSE del 9% e un MAE del 0.7%\n",
    "\n",
    "model.summary()\n",
    "\n",
    "tf.keras.utils.plot_model(\n",
    "    model,\n",
    "    to_file='top10bs16_cononoshape_6layers_256neurons_p06cut_plot.png',\n",
    "    show_shapes=True,\n",
    "    show_dtype=False,\n",
    "    show_layer_names=False,\n",
    "    rankdir='TB',\n",
    "    expand_nested=False,\n",
    "    dpi=240,\n",
    "    layer_range=None,\n",
    "    show_layer_activations=True,\n",
    "    show_trainable=False\n",
    ")\n",
    "\n",
    "import visualkeras\n",
    "visualkeras.layered_view(model)"
   ]
  },
  {
   "cell_type": "code",
   "execution_count": null,
   "id": "97b06f19",
   "metadata": {},
   "outputs": [],
   "source": []
  },
  {
   "cell_type": "code",
   "execution_count": null,
   "id": "8695856d",
   "metadata": {},
   "outputs": [],
   "source": []
  }
 ],
 "metadata": {
  "kernelspec": {
   "display_name": "Python 3 (ipykernel)",
   "language": "python",
   "name": "python3"
  },
  "language_info": {
   "codemirror_mode": {
    "name": "ipython",
    "version": 3
   },
   "file_extension": ".py",
   "mimetype": "text/x-python",
   "name": "python",
   "nbconvert_exporter": "python",
   "pygments_lexer": "ipython3",
   "version": "3.11.7"
  }
 },
 "nbformat": 4,
 "nbformat_minor": 5
}
