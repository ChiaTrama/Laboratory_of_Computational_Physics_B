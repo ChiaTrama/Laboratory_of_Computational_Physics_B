{
 "cells": [
  {
   "cell_type": "markdown",
   "metadata": {},
   "source": [
    "### Note:\n",
    "we tried to implement CUDA processing to fasten inference time and permit larger datasets, but with no success. \\\n",
    "As SBI documentation says SNPE does not benefit from CUDA operations."
   ]
  },
  {
   "cell_type": "code",
   "execution_count": 1,
   "metadata": {},
   "outputs": [],
   "source": [
    "import time\n",
    "import os\n",
    "import torch\n",
    "from sbi import utils as utils\n",
    "from sbi.inference import SNPE, SNPE_A, SNPE_C\n",
    "from sbi.utils.user_input_checks import process_prior\n",
    "\n",
    "from parsing_functions import save_pickle_data, load_inference_data, extract_specs, preprocess"
   ]
  },
  {
   "cell_type": "markdown",
   "metadata": {},
   "source": [
    "## Loading dataset"
   ]
  },
  {
   "cell_type": "code",
   "execution_count": 2,
   "metadata": {},
   "outputs": [],
   "source": [
    "save_dir = 'saved_datasets/'\n",
    "dataset_name = 'dataset_eb1fe5f16d9ec420409495714fb8d7a8.pickle'\n",
    "\n",
    "dataset_path = os.path.join(save_dir, dataset_name)\n",
    "\n",
    "xstack, theta = load_inference_data(input_file = dataset_path)\n",
    "\n",
    "#print(xstack.shape)\n",
    "\n",
    "# Here you can choose the features used for inference from: 'Cxx','S_red_x','Cxy','Cyy','S_red_y'\n",
    "features = ['Cxx','S_red_x','Cxy','Cyy','S_red_y']\n",
    "x = preprocess(data = xstack, features = features ,density = 1.)\n",
    "\n",
    "#print(type(x), type(xstack))\n",
    "\n",
    "# Extract the specifications\n",
    "specs_dict = extract_specs(dataset_path)\n",
    "\n",
    "# Unpack the specifications from the dictionary\n",
    "num_simulations = specs_dict['num_simulations']\n",
    "Npts = specs_dict['Npts']\n",
    "dt = specs_dict['dt']\n",
    "oversampling = specs_dict['oversampling']\n",
    "prerun = specs_dict['prerun']\n",
    "\n",
    "high_tensor = specs_dict['high_tensor']\n",
    "low_tensor = specs_dict['low_tensor']\n",
    "\n",
    "# Declaring SBI prior for sampling\n",
    "device = torch.device(\"cpu\")\n",
    "prior_sbi = utils.BoxUniform(low=low_tensor.to(device), \n",
    "                             high=high_tensor.to(device),\n",
    "                            device = 'cpu')\n",
    "\n",
    "# Check prior, return PyTorch prior.\n",
    "prior, num_parameters, prior_returns_numpy = process_prior(prior_sbi)"
   ]
  },
  {
   "cell_type": "markdown",
   "metadata": {},
   "source": [
    "## Inference"
   ]
  },
  {
   "cell_type": "code",
   "execution_count": 3,
   "metadata": {},
   "outputs": [],
   "source": [
    "#print(torch.cuda.is_available())\n",
    "#print(torch.cuda.get_device_name(0))\n",
    "\n",
    "#torch.cuda.empty_cache()\n",
    "#print(torch.cuda.memory_summary())"
   ]
  },
  {
   "cell_type": "code",
   "execution_count": 4,
   "metadata": {},
   "outputs": [
    {
     "name": "stdout",
     "output_type": "stream",
     "text": [
      " Neural network successfully converged after 124 epochs.\n",
      " time passed for convergence:  23.799218893051147\n"
     ]
    }
   ],
   "source": [
    "inference = SNPE(prior=prior, device=\"cpu\", density_estimator=\"maf\")\n",
    "inference = inference.append_simulations(theta, x)\n",
    "start = time.time()\n",
    "density_estimator = inference.train()\n",
    "posterior = inference.build_posterior(density_estimator)\n",
    "end = time.time()\n",
    "print('\\n time passed for convergence: ', end-start)"
   ]
  },
  {
   "cell_type": "code",
   "execution_count": 5,
   "metadata": {},
   "outputs": [
    {
     "name": "stdout",
     "output_type": "stream",
     "text": [
      "Saved dataset at saved_posteriors/posterior_366eb24ca0e06eb1e96ac05dfd2df8da.pickle\n",
      "\n"
     ]
    },
    {
     "data": {
      "text/plain": [
       "'saved_posteriors/posterior_366eb24ca0e06eb1e96ac05dfd2df8da.pickle'"
      ]
     },
     "execution_count": 5,
     "metadata": {},
     "output_type": "execute_result"
    }
   ],
   "source": [
    "#saving generated posterior from SBI\n",
    "posterior_dir = 'saved_posteriors/'\n",
    "\n",
    "data_posterior = {\n",
    "    'posterior': posterior,\n",
    "    'num_simulations': num_simulations,\n",
    "    'Npts': Npts,\n",
    "    'dt': dt,\n",
    "    'oversampling': oversampling,\n",
    "    'prerun': prerun,\n",
    "    'low_tensor': low_tensor,\n",
    "    'high_tensor': high_tensor,\n",
    "    'features': features # Indicates the type of the data\n",
    "}\n",
    "\n",
    "save_pickle_data(data=data_posterior, folder_path=posterior_dir)"
   ]
  },
  {
   "cell_type": "code",
   "execution_count": null,
   "metadata": {},
   "outputs": [],
   "source": []
  }
 ],
 "metadata": {
  "kernelspec": {
   "display_name": "Python 3 (ipykernel)",
   "language": "python",
   "name": "python3"
  },
  "language_info": {
   "codemirror_mode": {
    "name": "ipython",
    "version": 3
   },
   "file_extension": ".py",
   "mimetype": "text/x-python",
   "name": "python",
   "nbconvert_exporter": "python",
   "pygments_lexer": "ipython3",
   "version": "3.12.3"
  },
  "vscode": {
   "interpreter": {
    "hash": "ac023662816e34a7c70948c9d4b9a4c7f7265345a717f9656ab4030a5476265f"
   }
  }
 },
 "nbformat": 4,
 "nbformat_minor": 4
}
