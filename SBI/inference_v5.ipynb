{
 "cells": [
  {
   "cell_type": "code",
   "execution_count": 1,
   "metadata": {},
   "outputs": [],
   "source": [
    "import time\n",
    "import os\n",
    "import torch\n",
    "from sbi import utils as utils\n",
    "from sbi.inference import SNPE, SNPE_A, SNPE_C\n",
    "from sbi.utils.user_input_checks import process_prior\n",
    "\n",
    "from parsing_functions import save_pickle_data, load_inference_data, extract_specs, preprocess"
   ]
  },
  {
   "cell_type": "markdown",
   "metadata": {},
   "source": [
    "## Loading dataset"
   ]
  },
  {
   "cell_type": "code",
   "execution_count": 2,
   "metadata": {},
   "outputs": [
    {
     "name": "stdout",
     "output_type": "stream",
     "text": [
      "torch.Size([10000, 4, 1000])\n",
      "<class 'torch.Tensor'> <class 'torch.Tensor'>\n"
     ]
    }
   ],
   "source": [
    "save_dir = 'saved_datasets/model2/'\n",
    "dataset_name = 'dataset_10000sim_5e+04np_1e-02dt_5os_1e+03pre_1.pickle'\n",
    "\n",
    "dataset_path = os.path.join(save_dir, dataset_name)\n",
    "\n",
    "xstack, theta = load_inference_data(input_file = dataset_path)\n",
    "\n",
    "print(xstack.shape)\n",
    "features = ['Cxx','Cyy','S_red_x', 'S_red_y']\n",
    "x = preprocess(data = xstack, features = features ,density = 1.)\n",
    "\n",
    "print(type(x), type(xstack))\n",
    "\n",
    "# Extract the specifications\n",
    "specs_dict = extract_specs(dataset_path)\n",
    "\n",
    "# Unpack the specifications from the dictionary\n",
    "num_simulations = specs_dict['num_simulations']\n",
    "Npts = specs_dict['Npts']\n",
    "dt = specs_dict['dt']\n",
    "oversampling = specs_dict['oversampling']\n",
    "prerun = specs_dict['prerun']\n",
    "\n",
    "prefix = specs_dict['prefix']\n",
    "data_type = specs_dict['data_type']\n",
    "\n",
    "high_tensor = specs_dict['high_tensor']\n",
    "low_tensor = specs_dict['low_tensor']\n",
    "\n",
    "# Declaring SBI prior for sampling\n",
    "prior_sbi = utils.BoxUniform(low=low_tensor, high=high_tensor)\n",
    "\n",
    "# Check prior, return PyTorch prior.\n",
    "prior, num_parameters, prior_returns_numpy = process_prior(prior_sbi)"
   ]
  },
  {
   "cell_type": "markdown",
   "metadata": {},
   "source": [
    "## Inference"
   ]
  },
  {
   "cell_type": "code",
   "execution_count": 3,
   "metadata": {
    "scrolled": true
   },
   "outputs": [
    {
     "name": "stdout",
     "output_type": "stream",
     "text": [
      " Neural network successfully converged after 62 epochs.\n",
      " time passed for convergence:  199.89245200157166\n"
     ]
    }
   ],
   "source": [
    "inference = SNPE(prior=prior)\n",
    "inference = inference.append_simulations(theta, x)\n",
    "start = time.time()\n",
    "density_estimator = inference.train()\n",
    "posterior = inference.build_posterior(density_estimator)\n",
    "end = time.time()\n",
    "print('\\n time passed for convergence: ', end-start)"
   ]
  },
  {
   "cell_type": "code",
   "execution_count": 5,
   "metadata": {},
   "outputs": [
    {
     "name": "stdout",
     "output_type": "stream",
     "text": [
      "Saved dataset at saved_posteriors/model2/posterior_10000sim_5e+04np_1e-02dt_5os_1e+03pre.pickle\n",
      "\n"
     ]
    },
    {
     "data": {
      "text/plain": [
       "'saved_posteriors/model2/posterior_10000sim_5e+04np_1e-02dt_5os_1e+03pre.pickle'"
      ]
     },
     "execution_count": 5,
     "metadata": {},
     "output_type": "execute_result"
    }
   ],
   "source": [
    "#saving generated posterior from SBI\n",
    "posterior_dir = 'saved_posteriors/model2/'\n",
    "\n",
    "data_posterior = {\n",
    "    'posterior': posterior,\n",
    "    'num_simulations': num_simulations,\n",
    "    'Npts': Npts,\n",
    "    'dt': dt,\n",
    "    'oversampling': oversampling,\n",
    "    'prerun': prerun,\n",
    "    'low_tensor': low_tensor,\n",
    "    'high_tensor': high_tensor,\n",
    "    'data_type': data_type, # Indicates the type of the data\n",
    "    'features': features\n",
    "}\n",
    "\n",
    "save_pickle_data(data=data_posterior, folder_path=posterior_dir)"
   ]
  },
  {
   "cell_type": "code",
   "execution_count": null,
   "metadata": {},
   "outputs": [],
   "source": []
  }
 ],
 "metadata": {
  "kernelspec": {
   "display_name": "Python 3 (ipykernel)",
   "language": "python",
   "name": "python3"
  },
  "language_info": {
   "codemirror_mode": {
    "name": "ipython",
    "version": 3
   },
   "file_extension": ".py",
   "mimetype": "text/x-python",
   "name": "python",
   "nbconvert_exporter": "python",
   "pygments_lexer": "ipython3",
   "version": "3.10.14"
  },
  "vscode": {
   "interpreter": {
    "hash": "ac023662816e34a7c70948c9d4b9a4c7f7265345a717f9656ab4030a5476265f"
   }
  }
 },
 "nbformat": 4,
 "nbformat_minor": 4
}
