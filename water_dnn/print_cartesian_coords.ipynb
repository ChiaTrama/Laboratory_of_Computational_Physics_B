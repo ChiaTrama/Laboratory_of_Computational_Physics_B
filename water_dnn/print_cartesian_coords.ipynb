{
 "cells": [
  {
   "cell_type": "code",
   "execution_count": 2,
   "id": "d9427e9f",
   "metadata": {},
   "outputs": [],
   "source": [
    "def desymmetrize3p(symm_coords):\n",
    "    # Extract the symmetrized values\n",
    "    dh1, dh2, theta = symm_coords #input in the form of symmetrize3p output\n",
    "\n",
    "    # Assume the distance between H1 and O is dh1\n",
    "    # Assume the distance between H2 and O is dh2\n",
    "    # Calculate the coordinates of H1 and H2 relative to O\n",
    "    h1x = dh1 * np.sin(theta / 2.0)\n",
    "    h1y = dh1 * np.cos(theta / 2.0)\n",
    "    h2x = dh2 * np.sin(theta / 2.0)\n",
    "    h2y = dh2 * np.cos(theta / 2.0)\n",
    "    ox = 5.0  # O is at the origin in the symmetrized coordinates\n",
    "    oy = 5.0\n",
    "\n",
    "    # Calculate the coordinates of H1 and H2 in Cartesian coordinates\n",
    "    h1_x = ox + h1x\n",
    "    h1_y = oy + h1y\n",
    "    h2_x = ox - h2x\n",
    "    h2_y = oy + h2y\n",
    "    \n",
    "    # Return the Cartesian coordinates as a list of arrays\n",
    "    return [np.array([h1_x, h1_y, 5.0]), np.array([h2_x, h2_y, 5.0]), np.array([ox, oy, 5.0])]"
   ]
  },
  {
   "cell_type": "code",
   "execution_count": 3,
   "id": "17fbd9ef",
   "metadata": {},
   "outputs": [
    {
     "name": "stdout",
     "output_type": "stream",
     "text": [
      "[array([5.75792359, 5.58919592, 5.        ]), array([4.24207641, 5.58919592, 5.        ]), array([5., 5., 5.])]\n"
     ]
    }
   ],
   "source": [
    "import numpy as np\n",
    "\n",
    "dh1=0.96\n",
    "dh2=0.96\n",
    "theta=1.82\n",
    "symmcoords= np.array([dh1,dh2,theta])\n",
    "cartesian = desymmetrize3p(symmcoords) #cartesian coordinates in Angstrom\n",
    "print(cartesian)"
   ]
  },
  {
   "cell_type": "code",
   "execution_count": null,
   "id": "1a7d29da",
   "metadata": {},
   "outputs": [],
   "source": []
  }
 ],
 "metadata": {
  "kernelspec": {
   "display_name": "Python 3 (ipykernel)",
   "language": "python",
   "name": "python3"
  },
  "language_info": {
   "codemirror_mode": {
    "name": "ipython",
    "version": 3
   },
   "file_extension": ".py",
   "mimetype": "text/x-python",
   "name": "python",
   "nbconvert_exporter": "python",
   "pygments_lexer": "ipython3",
   "version": "3.11.8"
  }
 },
 "nbformat": 4,
 "nbformat_minor": 5
}
