{
 "cells": [
  {
   "cell_type": "code",
   "execution_count": 1,
   "id": "1bb6238c",
   "metadata": {},
   "outputs": [
    {
     "name": "stdout",
     "output_type": "stream",
     "text": [
      "Dataset unificato salvato con successo nel file: merged_randcart5_dataset_5a.pickle\n",
      "Dataset unificato con numero di samples: 25213\n"
     ]
    }
   ],
   "source": [
    "import os\n",
    "import pickle\n",
    "\n",
    "# Directory contenente i file .pickle\n",
    "directory_path = \"./\"\n",
    "\n",
    "# Lista di tutti i file nella directory con estensione .pickle\n",
    "all_files = [file for file in os.listdir(directory_path) if file.endswith(\".pickle\")]\n",
    "\n",
    "# Filtra solo i file che iniziano con \"dataset\"\n",
    "dataset_files = [file for file in all_files if file.startswith(\"dataset_randcart_\")]\n",
    "\n",
    "# Lista per memorizzare i dati da tutti i file\n",
    "all_data = []\n",
    "ecut = -450.\n",
    "pcut = 0.6\n",
    "thetacut = 1.0471975511965979\n",
    "tcut = 0.2\n",
    "# Carica i dati da ciascun file e uniscili\n",
    "for filename in dataset_files:\n",
    "    file_path = os.path.join(directory_path, filename)\n",
    "    with open(filename, 'rb') as file:\n",
    "        data = pickle.load(file)\n",
    "        #filtered_data = [mol for mol in data if \n",
    "                         #mol['positions'][0] > pcut and \n",
    "                         #mol['positions'][1] > pcut]# and\n",
    "                         #mol['positions'][2] > tcut and \n",
    "                         #mol['energy'] < ecut] \n",
    "        #print(data2)\n",
    "        all_data.extend(data)\n",
    "\n",
    "# Salva tutti i dati in un unico file pickle\n",
    "output_filename = \"merged_randcart5_dataset_5a.pickle\"\n",
    "with open(output_filename, 'wb') as file:\n",
    "    pickle.dump(all_data, file)\n",
    "\n",
    "print(\"Dataset unificato salvato con successo nel file:\", output_filename)\n",
    "print(\"Dataset unificato con numero di samples:\", len(all_data))\n",
    "#print(all_data)"
   ]
  },
  {
   "cell_type": "code",
   "execution_count": null,
   "id": "7433bbec",
   "metadata": {},
   "outputs": [],
   "source": []
  },
  {
   "cell_type": "code",
   "execution_count": null,
   "id": "a135072a",
   "metadata": {},
   "outputs": [],
   "source": []
  }
 ],
 "metadata": {
  "kernelspec": {
   "display_name": "Python 3 (ipykernel)",
   "language": "python",
   "name": "python3"
  },
  "language_info": {
   "codemirror_mode": {
    "name": "ipython",
    "version": 3
   },
   "file_extension": ".py",
   "mimetype": "text/x-python",
   "name": "python",
   "nbconvert_exporter": "python",
   "pygments_lexer": "ipython3",
   "version": "3.11.8"
  }
 },
 "nbformat": 4,
 "nbformat_minor": 5
}
