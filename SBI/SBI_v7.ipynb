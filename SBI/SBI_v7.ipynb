{
 "cells": [
  {
   "cell_type": "code",
   "execution_count": 1,
   "id": "a9c4f90e-a7a4-4028-b355-f9a08b584ad6",
   "metadata": {},
   "outputs": [],
   "source": [
    "import torch\n",
    "import numpy as np\n",
    "import time\n",
    "from sbi import utils as utils\n",
    "from sbi.inference import SNPE, simulate_for_sbi\n",
    "from sbi.utils.user_input_checks import (\n",
    "    check_sbi_inputs,\n",
    "    process_prior,\n",
    "    process_simulator,\n",
    ")\n",
    "\n",
    "from parsing_functions import save_pickle_data\n",
    "from simulations_model1 import simulator_sbi"
   ]
  },
  {
   "cell_type": "markdown",
   "id": "fc198c04-6b65-4e09-bddf-6444ccfc4e28",
   "metadata": {},
   "source": [
    "# Dataset creation with simulate_for_sbi"
   ]
  },
  {
   "cell_type": "code",
   "execution_count": 2,
   "id": "6e0f7511-debe-4ea0-ab3a-72979be82a92",
   "metadata": {},
   "outputs": [],
   "source": [
    "low_tensor = torch.tensor([0,0.1,0])\n",
    "high_tensor = torch.tensor([4,4,4])\n",
    "\n",
    "dt = 1e-2\n",
    "oversampling = 10\n",
    "prerun = 1e2\n",
    "Npts = 5e4\n",
    "\n",
    "\n",
    "def simulator_to_sbi(pars):\n",
    "    return simulator_sbi(np.array(pars), dt, oversampling, int(prerun),int(Npts))\n",
    "\n",
    "\n",
    "prior_sbi = utils.BoxUniform(low=low_tensor, high=high_tensor)\n",
    "\n",
    "# Check prior, return PyTorch prior.\n",
    "prior, num_parameters, prior_returns_numpy = process_prior(prior_sbi)\n",
    "\n",
    "# Check simulator, returns PyTorch simulator able to simulate batches.\n",
    "simulator = process_simulator(simulator_to_sbi, prior, prior_returns_numpy)\n",
    "\n",
    "# Consistency check after making ready for sbi.\n",
    "check_sbi_inputs(simulator, prior)"
   ]
  },
  {
   "cell_type": "code",
   "execution_count": 3,
   "id": "7ace5441-6b8e-404b-b592-6be83de0cb39",
   "metadata": {},
   "outputs": [
    {
     "data": {
      "application/vnd.jupyter.widget-view+json": {
       "model_id": "1f3604ccde0641c9910edcbd890b3aa2",
       "version_major": 2,
       "version_minor": 0
      },
      "text/plain": [
       "Running 2500 simulations in 100 batches.:   0%|          | 0/100 [00:00<?, ?it/s]"
      ]
     },
     "metadata": {},
     "output_type": "display_data"
    }
   ],
   "source": [
    "num_simulations=2500\n",
    "num_workers=10\n",
    "sim_batch_size=int(num_simulations/(num_workers*10))\n",
    "\n",
    "#saving string for future saving\n",
    "specs = f'{num_simulations}sim_{Npts:.0e}np_{dt:.0e}dt_{oversampling:}os_{prerun:.0e}pre'\n",
    "\n",
    "#to use parallel processing you need python<3.11\n",
    "start=time.time()\n",
    "theta, x = simulate_for_sbi(simulator, proposal=prior, num_simulations=num_simulations, \n",
    "                            num_workers=num_workers, simulation_batch_size=sim_batch_size)\n",
    "end=time.time()\n",
    "\n",
    "#bsize = 10, nworkers=10, ~ 0.62s/it\n",
    "#new sim with 100 batches ~0.29s/it, same with 10 batches"
   ]
  },
  {
   "cell_type": "code",
   "execution_count": 4,
   "id": "a09d9f49-8103-4114-9702-791d09450ae3",
   "metadata": {},
   "outputs": [
    {
     "name": "stdout",
     "output_type": "stream",
     "text": [
      "time:  72.29905271530151\n",
      "mean time per iteration:  0.028919621086120607\n"
     ]
    }
   ],
   "source": [
    "print('time: ', end-start)\n",
    "print('mean time per iteration: ', (end-start)/num_simulations)"
   ]
  },
  {
   "cell_type": "code",
   "execution_count": 5,
   "id": "2519f72b-1e9a-4397-acd8-0eaa5922e4e3",
   "metadata": {},
   "outputs": [
    {
     "name": "stdout",
     "output_type": "stream",
     "text": [
      "Saved dataset at saved_datasets/dataset_2500sim_5e+04np_1e-02dt_10os_1e+02pre.pickle\n",
      "\n"
     ]
    }
   ],
   "source": [
    "# saving dataset for future use\n",
    "dataset_name = 'dataset_' + str(specs)\n",
    "save_dir = 'saved_datasets'\n",
    "data = {\"theta\": theta, \"x\": x}\n",
    "\n",
    "save_pickle_data(data=data, filename=dataset_name, folder_path=save_dir)"
   ]
  }
 ],
 "metadata": {
  "kernelspec": {
   "display_name": "Python 3 (ipykernel)",
   "language": "python",
   "name": "python3"
  },
  "language_info": {
   "codemirror_mode": {
    "name": "ipython",
    "version": 3
   },
   "file_extension": ".py",
   "mimetype": "text/x-python",
   "name": "python",
   "nbconvert_exporter": "python",
   "pygments_lexer": "ipython3",
   "version": "3.10.14"
  }
 },
 "nbformat": 4,
 "nbformat_minor": 5
}
