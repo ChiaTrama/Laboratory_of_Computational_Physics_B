{
 "cells": [
  {
   "cell_type": "code",
   "execution_count": 1,
   "metadata": {},
   "outputs": [],
   "source": [
    "import time\n",
    "import os\n",
    "import torch\n",
    "from sbi import utils as utils\n",
    "from sbi.inference import SNPE, SNPE_A, SNPE_C\n",
    "from sbi.utils.user_input_checks import process_prior\n",
    "\n",
    "from simulations_model1 import simulator_sbi_entropy\n",
    "from parsing_functions import save_pickle_data, load_input_data, extract_specs"
   ]
  },
  {
   "cell_type": "markdown",
   "metadata": {},
   "source": [
    "## Loading dataset"
   ]
  },
  {
   "cell_type": "code",
   "execution_count": 2,
   "metadata": {
    "scrolled": true
   },
   "outputs": [
    {
     "name": "stdout",
     "output_type": "stream",
     "text": [
      "None_5000sim_5e+04np_1e-02dt_10os_1e+02pre\n"
     ]
    }
   ],
   "source": [
    "save_dir = 'saved_datasets/'\n",
    "dataset_name = 'dataset_5000sim_5e+04np_1e-02dt_10os_1e+02pre.pickle'\n",
    "\n",
    "dataset_path = os.path.join(save_dir, dataset_name)\n",
    "\n",
    "x, theta = load_input_data(input_file = dataset_path)\n",
    "\n",
    "# Extract the specifications\n",
    "specs_dict = extract_specs(dataset_name)\n",
    "\n",
    "# Unpack the specifications from the dictionary\n",
    "num_simulations = specs_dict['num_simulations']\n",
    "Npts = specs_dict['Npts']\n",
    "dt = specs_dict['dt']\n",
    "oversampling = specs_dict['oversampling']\n",
    "prerun = specs_dict['prerun']\n",
    "prefix = specs_dict['prefix']\n",
    "\n",
    "# Saving string for future saving\n",
    "specs = f'{prefix}_{num_simulations:.0f}sim_{Npts:.0e}np_{dt:.0e}dt_{oversampling}os_{prerun:.0e}pre'\n",
    "print(specs)"
   ]
  },
  {
   "cell_type": "code",
   "execution_count": 3,
   "metadata": {},
   "outputs": [],
   "source": [
    "low2_tensor = torch.tensor([0,0.1,0])\n",
    "high2_tensor = torch.tensor([4,4,4])\n",
    "prior_sbi = utils.BoxUniform(low=low2_tensor, high=high2_tensor)\n",
    "\n",
    "# Check prior, return PyTorch prior.\n",
    "prior, num_parameters, prior_returns_numpy = process_prior(prior_sbi)"
   ]
  },
  {
   "cell_type": "markdown",
   "metadata": {},
   "source": [
    "## Inference"
   ]
  },
  {
   "cell_type": "code",
   "execution_count": 4,
   "metadata": {
    "scrolled": true
   },
   "outputs": [
    {
     "name": "stdout",
     "output_type": "stream",
     "text": [
      " Neural network successfully converged after 133 epochs.\n",
      " time passed for convergence:  95.65190601348877\n"
     ]
    }
   ],
   "source": [
    "inference = SNPE(prior=prior)\n",
    "inference = inference.append_simulations(theta, x)\n",
    "start = time.time()\n",
    "density_estimator = inference.train()\n",
    "posterior = inference.build_posterior(density_estimator)\n",
    "end = time.time()\n",
    "print('\\n time passed for convergence: ', end-start)"
   ]
  },
  {
   "cell_type": "code",
   "execution_count": 5,
   "metadata": {},
   "outputs": [
    {
     "name": "stdout",
     "output_type": "stream",
     "text": [
      "Saved dataset at saved_posteriors/posterior_None_5000sim_5e+04np_1e-02dt_10os_1e+02pre.pickle\n",
      "\n"
     ]
    }
   ],
   "source": [
    "#saving generated posterior from SBI\n",
    "posterior_name = 'posterior_' + str(specs)\n",
    "save_dir = 'saved_posteriors'\n",
    "\n",
    "save_pickle_data(data=posterior, filename=posterior_name, folder_path=save_dir)"
   ]
  }
 ],
 "metadata": {
  "kernelspec": {
   "display_name": "Python 3 (ipykernel)",
   "language": "python",
   "name": "python3"
  },
  "language_info": {
   "codemirror_mode": {
    "name": "ipython",
    "version": 3
   },
   "file_extension": ".py",
   "mimetype": "text/x-python",
   "name": "python",
   "nbconvert_exporter": "python",
   "pygments_lexer": "ipython3",
   "version": "3.10.14"
  },
  "vscode": {
   "interpreter": {
    "hash": "ac023662816e34a7c70948c9d4b9a4c7f7265345a717f9656ab4030a5476265f"
   }
  }
 },
 "nbformat": 4,
 "nbformat_minor": 4
}
